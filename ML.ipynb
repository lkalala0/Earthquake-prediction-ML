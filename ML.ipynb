{
 "cells": [
  {
   "cell_type": "code",
   "execution_count": 1,
   "metadata": {
    "ExecuteTime": {
     "end_time": "2019-11-19T05:19:53.731882Z",
     "start_time": "2019-11-19T05:19:41.884321Z"
    }
   },
   "outputs": [],
   "source": [
    "import pandas as pd\n",
    "import numpy as np\n",
    "import matplotlib.pyplot as plt\n",
    "import seaborn as sns\n",
    "from pandas.plotting import scatter_matrix"
   ]
  },
  {
   "cell_type": "code",
   "execution_count": 2,
   "metadata": {
    "ExecuteTime": {
     "end_time": "2019-11-19T05:19:53.739885Z",
     "start_time": "2019-11-19T05:19:53.733871Z"
    }
   },
   "outputs": [],
   "source": [
    "# I will be using datetime, latitude, depth, magnitude to train and test the data from a specific dates"
   ]
  },
  {
   "cell_type": "code",
   "execution_count": 3,
   "metadata": {
    "ExecuteTime": {
     "end_time": "2019-11-19T05:19:54.204225Z",
     "start_time": "2019-11-19T05:19:53.743872Z"
    }
   },
   "outputs": [],
   "source": [
    "file = pd.read_csv(\"clean_data1.csv\")"
   ]
  },
  {
   "cell_type": "code",
   "execution_count": 4,
   "metadata": {
    "ExecuteTime": {
     "end_time": "2019-11-19T05:19:54.228212Z",
     "start_time": "2019-11-19T05:19:54.209208Z"
    }
   },
   "outputs": [
    {
     "data": {
      "text/plain": [
       "array([2001, 2002, 2003, 2004, 2005, 2006, 2007, 2008, 2009, 2010, 2011,\n",
       "       2012, 2013, 2014, 2015, 2016, 2017, 2018, 2019], dtype=int64)"
      ]
     },
     "execution_count": 4,
     "metadata": {},
     "output_type": "execute_result"
    }
   ],
   "source": [
    "file = file.loc[file['YEAR'] > 2000 ,:]\n",
    "file[\"YEAR\"].unique()"
   ]
  },
  {
   "cell_type": "code",
   "execution_count": 5,
   "metadata": {
    "ExecuteTime": {
     "end_time": "2019-11-19T05:19:54.351673Z",
     "start_time": "2019-11-19T05:19:54.233210Z"
    }
   },
   "outputs": [],
   "source": [
    "file = file[[\"YEAR\", 'MONTH', 'EQ_PRIMARY','Depth','LATITUDE','LONGITUDE','REGION_CODE','DEATHS','INJURIES','HOUSES_DAMAGED' ]]"
   ]
  },
  {
   "cell_type": "code",
   "execution_count": 6,
   "metadata": {
    "ExecuteTime": {
     "end_time": "2019-11-19T05:19:54.436871Z",
     "start_time": "2019-11-19T05:19:54.354658Z"
    }
   },
   "outputs": [
    {
     "data": {
      "text/plain": [
       "Index(['YEAR', 'MONTH', 'EQ_PRIMARY', 'Depth', 'LATITUDE', 'LONGITUDE',\n",
       "       'REGION_CODE', 'DEATHS', 'INJURIES', 'HOUSES_DAMAGED'],\n",
       "      dtype='object')"
      ]
     },
     "execution_count": 6,
     "metadata": {},
     "output_type": "execute_result"
    }
   ],
   "source": [
    "file.columns"
   ]
  },
  {
   "cell_type": "code",
   "execution_count": 7,
   "metadata": {
    "ExecuteTime": {
     "end_time": "2019-11-19T05:19:54.593465Z",
     "start_time": "2019-11-19T05:19:54.441872Z"
    }
   },
   "outputs": [
    {
     "data": {
      "text/html": [
       "<div>\n",
       "<style scoped>\n",
       "    .dataframe tbody tr th:only-of-type {\n",
       "        vertical-align: middle;\n",
       "    }\n",
       "\n",
       "    .dataframe tbody tr th {\n",
       "        vertical-align: top;\n",
       "    }\n",
       "\n",
       "    .dataframe thead th {\n",
       "        text-align: right;\n",
       "    }\n",
       "</style>\n",
       "<table border=\"1\" class=\"dataframe\">\n",
       "  <thead>\n",
       "    <tr style=\"text-align: right;\">\n",
       "      <th></th>\n",
       "      <th>YEAR</th>\n",
       "      <th>MONTH</th>\n",
       "      <th>EQ_PRIMARY</th>\n",
       "      <th>Depth</th>\n",
       "      <th>LATITUDE</th>\n",
       "      <th>LONGITUDE</th>\n",
       "      <th>REGION_CODE</th>\n",
       "      <th>DEATHS</th>\n",
       "      <th>INJURIES</th>\n",
       "      <th>HOUSES_DAMAGED</th>\n",
       "    </tr>\n",
       "  </thead>\n",
       "  <tbody>\n",
       "    <tr>\n",
       "      <th>count</th>\n",
       "      <td>1118.000000</td>\n",
       "      <td>1118.000000</td>\n",
       "      <td>1118.000000</td>\n",
       "      <td>1118.000000</td>\n",
       "      <td>1118.000000</td>\n",
       "      <td>1118.000000</td>\n",
       "      <td>1118.000000</td>\n",
       "      <td>1118.000000</td>\n",
       "      <td>1118.000000</td>\n",
       "      <td>1.118000e+03</td>\n",
       "    </tr>\n",
       "    <tr>\n",
       "      <th>mean</th>\n",
       "      <td>2009.887299</td>\n",
       "      <td>6.549195</td>\n",
       "      <td>5.924687</td>\n",
       "      <td>31.443649</td>\n",
       "      <td>17.532572</td>\n",
       "      <td>51.051142</td>\n",
       "      <td>100.308587</td>\n",
       "      <td>512.977639</td>\n",
       "      <td>890.075134</td>\n",
       "      <td>8.967302e+03</td>\n",
       "    </tr>\n",
       "    <tr>\n",
       "      <th>std</th>\n",
       "      <td>5.332776</td>\n",
       "      <td>3.475041</td>\n",
       "      <td>1.091867</td>\n",
       "      <td>67.041883</td>\n",
       "      <td>24.296444</td>\n",
       "      <td>87.142654</td>\n",
       "      <td>56.356222</td>\n",
       "      <td>10126.881267</td>\n",
       "      <td>13148.761851</td>\n",
       "      <td>1.630123e+05</td>\n",
       "    </tr>\n",
       "    <tr>\n",
       "      <th>min</th>\n",
       "      <td>2001.000000</td>\n",
       "      <td>1.000000</td>\n",
       "      <td>0.000000</td>\n",
       "      <td>0.000000</td>\n",
       "      <td>-60.532000</td>\n",
       "      <td>-179.971000</td>\n",
       "      <td>0.000000</td>\n",
       "      <td>0.000000</td>\n",
       "      <td>0.000000</td>\n",
       "      <td>0.000000e+00</td>\n",
       "    </tr>\n",
       "    <tr>\n",
       "      <th>25%</th>\n",
       "      <td>2005.000000</td>\n",
       "      <td>4.000000</td>\n",
       "      <td>5.200000</td>\n",
       "      <td>10.000000</td>\n",
       "      <td>-1.351750</td>\n",
       "      <td>11.460000</td>\n",
       "      <td>40.000000</td>\n",
       "      <td>0.000000</td>\n",
       "      <td>0.000000</td>\n",
       "      <td>0.000000e+00</td>\n",
       "    </tr>\n",
       "    <tr>\n",
       "      <th>50%</th>\n",
       "      <td>2009.000000</td>\n",
       "      <td>7.000000</td>\n",
       "      <td>5.900000</td>\n",
       "      <td>14.000000</td>\n",
       "      <td>25.286000</td>\n",
       "      <td>73.247000</td>\n",
       "      <td>110.000000</td>\n",
       "      <td>0.000000</td>\n",
       "      <td>1.000000</td>\n",
       "      <td>0.000000e+00</td>\n",
       "    </tr>\n",
       "    <tr>\n",
       "      <th>75%</th>\n",
       "      <td>2014.000000</td>\n",
       "      <td>9.000000</td>\n",
       "      <td>6.700000</td>\n",
       "      <td>32.000000</td>\n",
       "      <td>36.800500</td>\n",
       "      <td>119.790750</td>\n",
       "      <td>160.000000</td>\n",
       "      <td>2.000000</td>\n",
       "      <td>30.000000</td>\n",
       "      <td>1.975000e+01</td>\n",
       "    </tr>\n",
       "    <tr>\n",
       "      <th>max</th>\n",
       "      <td>2019.000000</td>\n",
       "      <td>12.000000</td>\n",
       "      <td>9.100000</td>\n",
       "      <td>675.000000</td>\n",
       "      <td>64.004000</td>\n",
       "      <td>179.332000</td>\n",
       "      <td>170.000000</td>\n",
       "      <td>316000.000000</td>\n",
       "      <td>374171.000000</td>\n",
       "      <td>5.360000e+06</td>\n",
       "    </tr>\n",
       "  </tbody>\n",
       "</table>\n",
       "</div>"
      ],
      "text/plain": [
       "              YEAR        MONTH   EQ_PRIMARY        Depth     LATITUDE  \\\n",
       "count  1118.000000  1118.000000  1118.000000  1118.000000  1118.000000   \n",
       "mean   2009.887299     6.549195     5.924687    31.443649    17.532572   \n",
       "std       5.332776     3.475041     1.091867    67.041883    24.296444   \n",
       "min    2001.000000     1.000000     0.000000     0.000000   -60.532000   \n",
       "25%    2005.000000     4.000000     5.200000    10.000000    -1.351750   \n",
       "50%    2009.000000     7.000000     5.900000    14.000000    25.286000   \n",
       "75%    2014.000000     9.000000     6.700000    32.000000    36.800500   \n",
       "max    2019.000000    12.000000     9.100000   675.000000    64.004000   \n",
       "\n",
       "         LONGITUDE  REGION_CODE         DEATHS       INJURIES  HOUSES_DAMAGED  \n",
       "count  1118.000000  1118.000000    1118.000000    1118.000000    1.118000e+03  \n",
       "mean     51.051142   100.308587     512.977639     890.075134    8.967302e+03  \n",
       "std      87.142654    56.356222   10126.881267   13148.761851    1.630123e+05  \n",
       "min    -179.971000     0.000000       0.000000       0.000000    0.000000e+00  \n",
       "25%      11.460000    40.000000       0.000000       0.000000    0.000000e+00  \n",
       "50%      73.247000   110.000000       0.000000       1.000000    0.000000e+00  \n",
       "75%     119.790750   160.000000       2.000000      30.000000    1.975000e+01  \n",
       "max     179.332000   170.000000  316000.000000  374171.000000    5.360000e+06  "
      ]
     },
     "execution_count": 7,
     "metadata": {},
     "output_type": "execute_result"
    }
   ],
   "source": [
    "#file.isnull().sum()\n",
    "#file['YEAR'].unique()\n",
    "file.describe()\n",
    "             "
   ]
  },
  {
   "cell_type": "code",
   "execution_count": 8,
   "metadata": {
    "ExecuteTime": {
     "end_time": "2019-11-19T05:19:55.102052Z",
     "start_time": "2019-11-19T05:19:54.597453Z"
    }
   },
   "outputs": [
    {
     "data": {
      "text/plain": [
       "<matplotlib.axes._subplots.AxesSubplot at 0x1a7acdfd2b0>"
      ]
     },
     "execution_count": 8,
     "metadata": {},
     "output_type": "execute_result"
    },
    {
     "data": {
      "image/png": "[encoded data removed]",
      "text/plain": [
       "<Figure size 648x576 with 2 Axes>"
      ]
     },
     "metadata": {
      "needs_background": "light"
     },
     "output_type": "display_data"
    }
   ],
   "source": [
    "corrmat = file.corr()\n",
    "f, ax = plt.subplots(figsize=(9,8))\n",
    "sns.heatmap(corrmat, ax=ax , cmap= \"YlGnBu\", linewidths = 0.1)"
   ]
  },
  {
   "cell_type": "code",
   "execution_count": 9,
   "metadata": {
    "ExecuteTime": {
     "end_time": "2019-11-19T05:19:55.360071Z",
     "start_time": "2019-11-19T05:19:55.106054Z"
    }
   },
   "outputs": [
    {
     "data": {
      "image/png": "[encoded data removed]",
      "text/plain": [
       "<Figure size 432x288 with 1 Axes>"
      ]
     },
     "metadata": {
      "needs_background": "light"
     },
     "output_type": "display_data"
    }
   ],
   "source": [
    "plt.scatter(file['EQ_PRIMARY'] ,file['INJURIES'])\n",
    "plt.show()"
   ]
  },
  {
   "cell_type": "code",
   "execution_count": 10,
   "metadata": {
    "ExecuteTime": {
     "end_time": "2019-11-19T05:19:57.012991Z",
     "start_time": "2019-11-19T05:19:55.363072Z"
    }
   },
   "outputs": [],
   "source": [
    "import sklearn\n",
    "from sklearn import linear_model\n",
    "from sklearn.utils import shuffle"
   ]
  },
  {
   "cell_type": "code",
   "execution_count": 11,
   "metadata": {
    "ExecuteTime": {
     "end_time": "2019-11-19T05:19:57.063990Z",
     "start_time": "2019-11-19T05:19:57.016993Z"
    }
   },
   "outputs": [
    {
     "data": {
      "text/html": [
       "<div>\n",
       "<style scoped>\n",
       "    .dataframe tbody tr th:only-of-type {\n",
       "        vertical-align: middle;\n",
       "    }\n",
       "\n",
       "    .dataframe tbody tr th {\n",
       "        vertical-align: top;\n",
       "    }\n",
       "\n",
       "    .dataframe thead th {\n",
       "        text-align: right;\n",
       "    }\n",
       "</style>\n",
       "<table border=\"1\" class=\"dataframe\">\n",
       "  <thead>\n",
       "    <tr style=\"text-align: right;\">\n",
       "      <th></th>\n",
       "      <th>YEAR</th>\n",
       "      <th>MONTH</th>\n",
       "      <th>EQ_PRIMARY</th>\n",
       "      <th>Depth</th>\n",
       "      <th>LATITUDE</th>\n",
       "      <th>LONGITUDE</th>\n",
       "      <th>REGION_CODE</th>\n",
       "      <th>DEATHS</th>\n",
       "      <th>INJURIES</th>\n",
       "      <th>HOUSES_DAMAGED</th>\n",
       "    </tr>\n",
       "  </thead>\n",
       "  <tbody>\n",
       "    <tr>\n",
       "      <th>5032</th>\n",
       "      <td>2001</td>\n",
       "      <td>1.0</td>\n",
       "      <td>7.5</td>\n",
       "      <td>33.0</td>\n",
       "      <td>6.898</td>\n",
       "      <td>126.579</td>\n",
       "      <td>170.0</td>\n",
       "      <td>0.0</td>\n",
       "      <td>0.0</td>\n",
       "      <td>0.0</td>\n",
       "    </tr>\n",
       "    <tr>\n",
       "      <th>5033</th>\n",
       "      <td>2001</td>\n",
       "      <td>1.0</td>\n",
       "      <td>7.7</td>\n",
       "      <td>60.0</td>\n",
       "      <td>13.049</td>\n",
       "      <td>-88.660</td>\n",
       "      <td>100.0</td>\n",
       "      <td>844.0</td>\n",
       "      <td>4723.0</td>\n",
       "      <td>169632.0</td>\n",
       "    </tr>\n",
       "    <tr>\n",
       "      <th>5034</th>\n",
       "      <td>2001</td>\n",
       "      <td>1.0</td>\n",
       "      <td>7.7</td>\n",
       "      <td>16.0</td>\n",
       "      <td>23.419</td>\n",
       "      <td>70.232</td>\n",
       "      <td>60.0</td>\n",
       "      <td>20005.0</td>\n",
       "      <td>166836.0</td>\n",
       "      <td>339000.0</td>\n",
       "    </tr>\n",
       "    <tr>\n",
       "      <th>5035</th>\n",
       "      <td>2001</td>\n",
       "      <td>2.0</td>\n",
       "      <td>6.6</td>\n",
       "      <td>10.0</td>\n",
       "      <td>13.671</td>\n",
       "      <td>-88.938</td>\n",
       "      <td>100.0</td>\n",
       "      <td>315.0</td>\n",
       "      <td>3399.0</td>\n",
       "      <td>15706.0</td>\n",
       "    </tr>\n",
       "    <tr>\n",
       "      <th>5036</th>\n",
       "      <td>2001</td>\n",
       "      <td>2.0</td>\n",
       "      <td>5.6</td>\n",
       "      <td>33.0</td>\n",
       "      <td>29.513</td>\n",
       "      <td>101.129</td>\n",
       "      <td>30.0</td>\n",
       "      <td>3.0</td>\n",
       "      <td>109.0</td>\n",
       "      <td>60000.0</td>\n",
       "    </tr>\n",
       "  </tbody>\n",
       "</table>\n",
       "</div>"
      ],
      "text/plain": [
       "      YEAR  MONTH  EQ_PRIMARY  Depth  LATITUDE  LONGITUDE  REGION_CODE  \\\n",
       "5032  2001    1.0         7.5   33.0     6.898    126.579        170.0   \n",
       "5033  2001    1.0         7.7   60.0    13.049    -88.660        100.0   \n",
       "5034  2001    1.0         7.7   16.0    23.419     70.232         60.0   \n",
       "5035  2001    2.0         6.6   10.0    13.671    -88.938        100.0   \n",
       "5036  2001    2.0         5.6   33.0    29.513    101.129         30.0   \n",
       "\n",
       "       DEATHS  INJURIES  HOUSES_DAMAGED  \n",
       "5032      0.0       0.0             0.0  \n",
       "5033    844.0    4723.0        169632.0  \n",
       "5034  20005.0  166836.0        339000.0  \n",
       "5035    315.0    3399.0         15706.0  \n",
       "5036      3.0     109.0         60000.0  "
      ]
     },
     "execution_count": 11,
     "metadata": {},
     "output_type": "execute_result"
    }
   ],
   "source": [
    "file.head()"
   ]
  },
  {
   "cell_type": "code",
   "execution_count": 12,
   "metadata": {
    "ExecuteTime": {
     "end_time": "2019-11-19T05:19:57.177002Z",
     "start_time": "2019-11-19T05:19:57.069990Z"
    }
   },
   "outputs": [],
   "source": [
    "# I am predicting the eq_primary which is the magnitude of earthquakes using linear regression"
   ]
  },
  {
   "cell_type": "code",
   "execution_count": 13,
   "metadata": {
    "ExecuteTime": {
     "end_time": "2019-11-19T05:19:57.303010Z",
     "start_time": "2019-11-19T05:19:57.181002Z"
    }
   },
   "outputs": [],
   "source": [
    "predict = 'DEATHS'"
   ]
  },
  {
   "cell_type": "code",
   "execution_count": 27,
   "metadata": {
    "ExecuteTime": {
     "end_time": "2019-11-19T05:32:45.859317Z",
     "start_time": "2019-11-19T05:32:45.837314Z"
    }
   },
   "outputs": [],
   "source": [
    "x = np.array(file.drop([predict, 'YEAR', 'MONTH', 'REGION_CODE', 'DEATHS', 'INJURIES','HOUSES_DAMAGED'],1))"
   ]
  },
  {
   "cell_type": "code",
   "execution_count": 32,
   "metadata": {
    "ExecuteTime": {
     "end_time": "2019-11-19T05:33:06.829086Z",
     "start_time": "2019-11-19T05:33:06.822085Z"
    }
   },
   "outputs": [],
   "source": [
    "y = np.array(file[predict])\n",
    "x_train, x_test , y_train, y_test = sklearn.model_selection.train_test_split(x,y, test_size=0.1)"
   ]
  },
  {
   "cell_type": "code",
   "execution_count": 33,
   "metadata": {
    "ExecuteTime": {
     "end_time": "2019-11-19T05:33:39.851834Z",
     "start_time": "2019-11-19T05:33:39.842833Z"
    }
   },
   "outputs": [
    {
     "name": "stdout",
     "output_type": "stream",
     "text": [
      "-0.1323325112821998\n"
     ]
    }
   ],
   "source": [
    "linear = linear_model.LinearRegression()\n",
    "linear.fit(x_train, y_train)\n",
    "acc = linear.score(x_test, y_test)\n",
    "print(acc)"
   ]
  },
  {
   "cell_type": "code",
   "execution_count": 34,
   "metadata": {
    "ExecuteTime": {
     "end_time": "2019-11-19T05:33:40.596894Z",
     "start_time": "2019-11-19T05:33:40.581893Z"
    }
   },
   "outputs": [
    {
     "name": "stdout",
     "output_type": "stream",
     "text": [
      "1088.4443869377228 0.0\n",
      "1062.8241696520636 0.0\n",
      "-1846.9727864004426 0.0\n",
      "1664.4054542178355 1.0\n",
      "1427.9447859430784 0.0\n",
      "-403.93367819176683 1.0\n",
      "420.51771457160976 17.0\n",
      "2017.3671494561295 0.0\n",
      "-43.54006208554347 0.0\n",
      "-887.1854746381136 0.0\n",
      "2223.6011757867273 1.0\n",
      "-94.05912225341717 0.0\n",
      "-622.8051952964897 0.0\n",
      "453.2228241963112 0.0\n",
      "449.57751800861024 1.0\n",
      "-1126.1309201822833 0.0\n",
      "1321.5280075266528 0.0\n",
      "2060.1167781990844 20005.0\n",
      "1492.4462562929693 0.0\n",
      "-12.086822924353783 0.0\n",
      "738.4741378012004 1.0\n",
      "2472.7338934083846 7.0\n",
      "1320.3447537736074 1.0\n",
      "33.243400915773236 0.0\n",
      "373.2662695186118 0.0\n",
      "1037.2595918268107 1.0\n",
      "62.770303245268224 0.0\n",
      "-500.7916807297288 0.0\n",
      "518.512926987175 0.0\n",
      "172.5762740795717 0.0\n",
      "859.7039768970308 1.0\n",
      "-357.620050893805 0.0\n",
      "1221.3171919347487 0.0\n",
      "156.3264609529342 0.0\n",
      "1428.4647336687176 299.0\n",
      "1193.3984058979759 0.0\n",
      "1899.5639457964671 0.0\n",
      "482.9034836646042 0.0\n",
      "1269.8820050624054 3.0\n",
      "782.7628482044001 0.0\n",
      "1849.660962810307 0.0\n",
      "316.73755227260517 0.0\n",
      "313.18184724739604 0.0\n",
      "2780.5268780556116 0.0\n",
      "699.971397898079 0.0\n",
      "-418.65726062906106 0.0\n",
      "1193.7786897858696 75.0\n",
      "699.1410025019713 1.0\n",
      "790.1096354194933 117.0\n",
      "-281.4162981761215 0.0\n",
      "2819.84011220955 402.0\n",
      "1113.9184339887843 0.0\n",
      "-959.9415367719894 1.0\n",
      "821.0468652082882 37.0\n",
      "366.13318609777616 0.0\n",
      "1008.5618966160264 0.0\n",
      "1530.538976617916 1.0\n",
      "316.9370772875918 1.0\n",
      "137.48440441086314 0.0\n",
      "191.75820656387623 0.0\n",
      "430.97973555190583 0.0\n",
      "94.90111710067231 2.0\n",
      "1724.503291831451 0.0\n",
      "-804.2435038569361 1.0\n",
      "814.9307012063637 2.0\n",
      "103.67907898412341 0.0\n",
      "-289.29313368477824 0.0\n",
      "15.554419978659098 0.0\n",
      "-116.91491375272744 0.0\n",
      "419.7171879787202 0.0\n",
      "-12.699094604933634 0.0\n",
      "430.620712216878 0.0\n",
      "14.594701522781179 1.0\n",
      "-516.2048047074709 0.0\n",
      "1789.6505620962444 0.0\n",
      "1371.617454587682 3.0\n",
      "211.2420066513141 0.0\n",
      "984.91913767795 2.0\n",
      "1136.2089631255121 1.0\n",
      "215.93636835404777 4.0\n",
      "438.16999629272505 0.0\n",
      "2383.4187958436596 0.0\n",
      "534.8171275075592 7.0\n",
      "629.325140729421 8.0\n",
      "-240.93988462772722 0.0\n",
      "-105.64947798793673 1.0\n",
      "1211.8790229622891 26.0\n",
      "-239.22748218998368 0.0\n",
      "-446.2572073665474 0.0\n",
      "-1735.270147960382 3.0\n",
      "2343.4867625881834 48.0\n",
      "659.3723953911376 1.0\n",
      "23.77402818630344 0.0\n",
      "-341.73573389182275 0.0\n",
      "-20.111962801495793 0.0\n",
      "-8.300598124472799 0.0\n",
      "1722.4663917671596 117.0\n",
      "821.9276865373631 0.0\n",
      "356.05384787956245 0.0\n",
      "1122.0134765802059 2.0\n",
      "-310.251018652983 0.0\n",
      "-3.6518745956000203 0.0\n",
      "1656.7166951628342 0.0\n",
      "836.9621947925625 1.0\n",
      "404.44063887113043 42.0\n",
      "-236.9479735588725 5.0\n",
      "369.81957922715264 1.0\n",
      "2128.873295801448 2.0\n",
      "2908.8898989931404 0.0\n",
      "868.0562181293881 2.0\n",
      "-496.3618024217594 1.0\n",
      "-372.59314086818586 0.0\n"
     ]
    }
   ],
   "source": [
    "predictions = linear.predict(x_test)\n",
    "for x in range(len(predictions)):\n",
    "    print(predictions[x], y_test[x])"
   ]
  },
  {
   "cell_type": "code",
   "execution_count": null,
   "metadata": {},
   "outputs": [],
   "source": []
  }
 ],
 "metadata": {
  "kernelspec": {
   "display_name": "Python 3",
   "language": "python",
   "name": "python3"
  },
  "language_info": {
   "codemirror_mode": {
    "name": "ipython",
    "version": 3
   },
   "file_extension": ".py",
   "mimetype": "text/x-python",
   "name": "python",
   "nbconvert_exporter": "python",
   "pygments_lexer": "ipython3",
   "version": "3.7.3"
  }
 },
 "nbformat": 4,
 "nbformat_minor": 2
}
